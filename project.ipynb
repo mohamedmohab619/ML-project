{
 "cells": [
  {
   "cell_type": "code",
   "execution_count": null,
   "metadata": {},
   "outputs": [],
   "source": [
    "import pandas as pd\n",
    "import matplotlib.pyplot as plt\n",
    "from imblearn.under_sampling import RandomUnderSampler\n",
    "from sklearn.model_selection import train_test_split, cross_val_score\n",
    "from sklearn.preprocessing import StandardScaler"
   ]
  },
  {
   "cell_type": "code",
   "execution_count": null,
   "metadata": {},
   "outputs": [],
   "source": [
    "dataframe=pd.read_csv('./data/magic.csv', header=None)\n",
    "dataframe = dataframe.rename(columns={dataframe.columns[-1]: 'type'}) #data represntation in dataframe\n",
    "dataframe"
   ]
  },
  {
   "cell_type": "code",
   "execution_count": null,
   "metadata": {},
   "outputs": [],
   "source": [
    "dataframe['type'].value_counts().plot.pie(autopct='%.2f') #plot of the data before balancing"
   ]
  },
  {
   "cell_type": "code",
   "execution_count": null,
   "metadata": {},
   "outputs": [],
   "source": [
    "dataframe_copy = dataframe.copy()\n",
    "dataframe_copy['is_gamma'] = dataframe['type'].apply(lambda x: 1 if x == 'g' else 0) #making a copy of the datadset\n",
    "dataframe_copy.drop(['type'], axis=1, inplace=True)"
   ]
  },
  {
   "cell_type": "code",
   "execution_count": null,
   "metadata": {},
   "outputs": [],
   "source": [
    "y = dataframe_copy['is_gamma']\n",
    "x = dataframe_copy.drop(['is_gamma'], axis=1) #balancing data process\n",
    "x"
   ]
  },
  {
   "cell_type": "code",
   "execution_count": null,
   "metadata": {},
   "outputs": [],
   "source": [
    "random_under_sampler = RandomUnderSampler(sampling_strategy=1) #under sampling of data\n",
    "x_res, y_res = random_under_sampler.fit_resample(x, y)"
   ]
  },
  {
   "cell_type": "code",
   "execution_count": null,
   "metadata": {},
   "outputs": [],
   "source": [
    "ax = y_res.value_counts().plot.pie(autopct = '%.2f') #ploting data after under sampling and balancing\n",
    "_=ax.set_title(\"Under sampling\")"
   ]
  },
  {
   "cell_type": "code",
   "execution_count": null,
   "metadata": {},
   "outputs": [],
   "source": [
    "x_train, x_validationAndTesting, y_train, y_validationAndTesting = train_test_split(x_res, y_res, train_size=0.7)\n",
    "x_validation,x_test, y_validation,  y_test = train_test_split(x_validationAndTesting, y_validationAndTesting, train_size=0.5)\n",
    "\n",
    "scaler = StandardScaler()\n",
    "x_train = scaler.fit_transform(x_train)  #spliting the data to train, validation and testing\n",
    "x_validation = scaler.fit_transform(x_validation)\n",
    "x_test = scaler.fit_transform(x_test)"
   ]
  }
 ],
 "metadata": {
  "language_info": {
   "name": "python"
  }
 },
 "nbformat": 4,
 "nbformat_minor": 2
}
